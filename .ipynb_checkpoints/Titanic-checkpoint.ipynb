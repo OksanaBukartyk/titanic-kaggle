{
 "cells": [
  {
   "cell_type": "code",
   "execution_count": 1,
   "id": "durable-infrastructure",
   "metadata": {},
   "outputs": [],
   "source": [
    "import pandas as pd\n",
    "import numpy as np\n",
    "import matplotlib\n",
    "import matplotlib.pyplot as plt\n",
    "import seaborn as sns\n",
    "import xgboost as xgb\n",
    "\n",
    "\n",
    "# custom estimator\n",
    "from custom_estimators import FeatureSelector, IsAlone, ExtractName\n",
    "from sklearn.model_selection import train_test_split, GridSearchCV\n",
    "from sklearn.pipeline import FeatureUnion, Pipeline\n",
    "from sklearn.preprocessing import StandardScaler, OneHotEncoder\n",
    "from sklearn.impute import SimpleImputer\n",
    "from sklearn.metrics import accuracy_score, roc_auc_score, f1_score"
   ]
  },
  {
   "cell_type": "code",
   "execution_count": 2,
   "id": "forbidden-sucking",
   "metadata": {},
   "outputs": [],
   "source": [
    "train_data = pd.read_csv('data/train.csv')\n",
    "test_data = pd.read_csv('data/test.csv')"
   ]
  },
  {
   "cell_type": "markdown",
   "id": "frequent-customs",
   "metadata": {},
   "source": [
    "Зчитування даних"
   ]
  },
  {
   "cell_type": "code",
   "execution_count": 3,
   "id": "damaged-atlanta",
   "metadata": {},
   "outputs": [
    {
     "data": {
      "text/html": [
       "<div>\n",
       "<style scoped>\n",
       "    .dataframe tbody tr th:only-of-type {\n",
       "        vertical-align: middle;\n",
       "    }\n",
       "\n",
       "    .dataframe tbody tr th {\n",
       "        vertical-align: top;\n",
       "    }\n",
       "\n",
       "    .dataframe thead th {\n",
       "        text-align: right;\n",
       "    }\n",
       "</style>\n",
       "<table border=\"1\" class=\"dataframe\">\n",
       "  <thead>\n",
       "    <tr style=\"text-align: right;\">\n",
       "      <th></th>\n",
       "      <th>PassengerId</th>\n",
       "      <th>Survived</th>\n",
       "      <th>Pclass</th>\n",
       "      <th>Name</th>\n",
       "      <th>Sex</th>\n",
       "      <th>Age</th>\n",
       "      <th>SibSp</th>\n",
       "      <th>Parch</th>\n",
       "      <th>Ticket</th>\n",
       "      <th>Fare</th>\n",
       "      <th>Cabin</th>\n",
       "      <th>Embarked</th>\n",
       "    </tr>\n",
       "  </thead>\n",
       "  <tbody>\n",
       "    <tr>\n",
       "      <td>0</td>\n",
       "      <td>1</td>\n",
       "      <td>0</td>\n",
       "      <td>3</td>\n",
       "      <td>Braund, Mr. Owen Harris</td>\n",
       "      <td>male</td>\n",
       "      <td>22.0</td>\n",
       "      <td>1</td>\n",
       "      <td>0</td>\n",
       "      <td>A/5 21171</td>\n",
       "      <td>7.2500</td>\n",
       "      <td>NaN</td>\n",
       "      <td>S</td>\n",
       "    </tr>\n",
       "    <tr>\n",
       "      <td>1</td>\n",
       "      <td>2</td>\n",
       "      <td>1</td>\n",
       "      <td>1</td>\n",
       "      <td>Cumings, Mrs. John Bradley (Florence Briggs Th...</td>\n",
       "      <td>female</td>\n",
       "      <td>38.0</td>\n",
       "      <td>1</td>\n",
       "      <td>0</td>\n",
       "      <td>PC 17599</td>\n",
       "      <td>71.2833</td>\n",
       "      <td>C85</td>\n",
       "      <td>C</td>\n",
       "    </tr>\n",
       "    <tr>\n",
       "      <td>2</td>\n",
       "      <td>3</td>\n",
       "      <td>1</td>\n",
       "      <td>3</td>\n",
       "      <td>Heikkinen, Miss. Laina</td>\n",
       "      <td>female</td>\n",
       "      <td>26.0</td>\n",
       "      <td>0</td>\n",
       "      <td>0</td>\n",
       "      <td>STON/O2. 3101282</td>\n",
       "      <td>7.9250</td>\n",
       "      <td>NaN</td>\n",
       "      <td>S</td>\n",
       "    </tr>\n",
       "    <tr>\n",
       "      <td>3</td>\n",
       "      <td>4</td>\n",
       "      <td>1</td>\n",
       "      <td>1</td>\n",
       "      <td>Futrelle, Mrs. Jacques Heath (Lily May Peel)</td>\n",
       "      <td>female</td>\n",
       "      <td>35.0</td>\n",
       "      <td>1</td>\n",
       "      <td>0</td>\n",
       "      <td>113803</td>\n",
       "      <td>53.1000</td>\n",
       "      <td>C123</td>\n",
       "      <td>S</td>\n",
       "    </tr>\n",
       "    <tr>\n",
       "      <td>4</td>\n",
       "      <td>5</td>\n",
       "      <td>0</td>\n",
       "      <td>3</td>\n",
       "      <td>Allen, Mr. William Henry</td>\n",
       "      <td>male</td>\n",
       "      <td>35.0</td>\n",
       "      <td>0</td>\n",
       "      <td>0</td>\n",
       "      <td>373450</td>\n",
       "      <td>8.0500</td>\n",
       "      <td>NaN</td>\n",
       "      <td>S</td>\n",
       "    </tr>\n",
       "  </tbody>\n",
       "</table>\n",
       "</div>"
      ],
      "text/plain": [
       "   PassengerId  Survived  Pclass  \\\n",
       "0            1         0       3   \n",
       "1            2         1       1   \n",
       "2            3         1       3   \n",
       "3            4         1       1   \n",
       "4            5         0       3   \n",
       "\n",
       "                                                Name     Sex   Age  SibSp  \\\n",
       "0                            Braund, Mr. Owen Harris    male  22.0      1   \n",
       "1  Cumings, Mrs. John Bradley (Florence Briggs Th...  female  38.0      1   \n",
       "2                             Heikkinen, Miss. Laina  female  26.0      0   \n",
       "3       Futrelle, Mrs. Jacques Heath (Lily May Peel)  female  35.0      1   \n",
       "4                           Allen, Mr. William Henry    male  35.0      0   \n",
       "\n",
       "   Parch            Ticket     Fare Cabin Embarked  \n",
       "0      0         A/5 21171   7.2500   NaN        S  \n",
       "1      0          PC 17599  71.2833   C85        C  \n",
       "2      0  STON/O2. 3101282   7.9250   NaN        S  \n",
       "3      0            113803  53.1000  C123        S  \n",
       "4      0            373450   8.0500   NaN        S  "
      ]
     },
     "execution_count": 3,
     "metadata": {},
     "output_type": "execute_result"
    }
   ],
   "source": [
    "train_data.head()"
   ]
  },
  {
   "cell_type": "markdown",
   "id": "swedish-bibliography",
   "metadata": {},
   "source": [
    "Розмір:"
   ]
  },
  {
   "cell_type": "code",
   "execution_count": 4,
   "id": "circular-knowing",
   "metadata": {},
   "outputs": [
    {
     "data": {
      "text/plain": [
       "((891, 12), (418, 11))"
      ]
     },
     "execution_count": 4,
     "metadata": {},
     "output_type": "execute_result"
    }
   ],
   "source": [
    "train_data.shape, test_data.shape"
   ]
  },
  {
   "cell_type": "markdown",
   "id": "declared-complexity",
   "metadata": {},
   "source": [
    "Інформація про датасети"
   ]
  },
  {
   "cell_type": "code",
   "execution_count": 5,
   "id": "hairy-opportunity",
   "metadata": {},
   "outputs": [
    {
     "name": "stdout",
     "output_type": "stream",
     "text": [
      "<class 'pandas.core.frame.DataFrame'>\n",
      "RangeIndex: 891 entries, 0 to 890\n",
      "Data columns (total 12 columns):\n",
      "PassengerId    891 non-null int64\n",
      "Survived       891 non-null int64\n",
      "Pclass         891 non-null int64\n",
      "Name           891 non-null object\n",
      "Sex            891 non-null object\n",
      "Age            714 non-null float64\n",
      "SibSp          891 non-null int64\n",
      "Parch          891 non-null int64\n",
      "Ticket         891 non-null object\n",
      "Fare           891 non-null float64\n",
      "Cabin          204 non-null object\n",
      "Embarked       889 non-null object\n",
      "dtypes: float64(2), int64(5), object(5)\n",
      "memory usage: 83.7+ KB\n",
      "\n",
      "<class 'pandas.core.frame.DataFrame'>\n",
      "RangeIndex: 418 entries, 0 to 417\n",
      "Data columns (total 11 columns):\n",
      "PassengerId    418 non-null int64\n",
      "Pclass         418 non-null int64\n",
      "Name           418 non-null object\n",
      "Sex            418 non-null object\n",
      "Age            332 non-null float64\n",
      "SibSp          418 non-null int64\n",
      "Parch          418 non-null int64\n",
      "Ticket         418 non-null object\n",
      "Fare           417 non-null float64\n",
      "Cabin          91 non-null object\n",
      "Embarked       418 non-null object\n",
      "dtypes: float64(2), int64(4), object(5)\n",
      "memory usage: 36.0+ KB\n"
     ]
    },
    {
     "data": {
      "text/plain": [
       "(None, None, None)"
      ]
     },
     "execution_count": 5,
     "metadata": {},
     "output_type": "execute_result"
    }
   ],
   "source": [
    "train_data.info(), print(), test_data.info()"
   ]
  },
  {
   "cell_type": "markdown",
   "id": "owned-league",
   "metadata": {},
   "source": [
    "Перевірка наявності не вказаних, пропущених даних"
   ]
  },
  {
   "cell_type": "code",
   "execution_count": 6,
   "id": "equivalent-gauge",
   "metadata": {},
   "outputs": [
    {
     "name": "stdout",
     "output_type": "stream",
     "text": [
      "\n"
     ]
    },
    {
     "data": {
      "text/plain": [
       "(PassengerId    False\n",
       " Survived       False\n",
       " Pclass         False\n",
       " Name           False\n",
       " Sex            False\n",
       " Age             True\n",
       " SibSp          False\n",
       " Parch          False\n",
       " Ticket         False\n",
       " Fare           False\n",
       " Cabin           True\n",
       " Embarked        True\n",
       " dtype: bool,\n",
       " None,\n",
       " PassengerId    False\n",
       " Pclass         False\n",
       " Name           False\n",
       " Sex            False\n",
       " Age             True\n",
       " SibSp          False\n",
       " Parch          False\n",
       " Ticket         False\n",
       " Fare            True\n",
       " Cabin           True\n",
       " Embarked       False\n",
       " dtype: bool)"
      ]
     },
     "execution_count": 6,
     "metadata": {},
     "output_type": "execute_result"
    }
   ],
   "source": [
    "train_data.isna().any(), print(), test_data.isna().any()"
   ]
  },
  {
   "cell_type": "raw",
   "id": "mental-handling",
   "metadata": {},
   "source": [
    "Пропущені дані в train_data: Age, Cabin i Embarked\n",
    "Пропущені дані в test_data: Age, Cabin,Fare\n",
    "\n",
    "Знаходимо кількість полів по кожній категорії/колонці"
   ]
  },
  {
   "cell_type": "code",
   "execution_count": 7,
   "id": "present-glory",
   "metadata": {},
   "outputs": [],
   "source": [
    "def count_na(df, columns):  \n",
    "    counts = [(df[col].isna() == 1).sum() for col in columns]\n",
    "    print([(columns[i], counts[i]) for i in range(len(columns))])"
   ]
  },
  {
   "cell_type": "code",
   "execution_count": 8,
   "id": "restricted-short",
   "metadata": {},
   "outputs": [
    {
     "name": "stdout",
     "output_type": "stream",
     "text": [
      "[('Age', 177), ('Cabin', 687), ('Embarked', 2)]\n",
      "[('Age', 86), ('Cabin', 327), ('Fare', 1)]\n"
     ]
    }
   ],
   "source": [
    "count_na(train_data, ['Age', 'Cabin', 'Embarked'])\n",
    "count_na(test_data, ['Age', 'Cabin', 'Fare'])"
   ]
  },
  {
   "cell_type": "raw",
   "id": "taken-tradition",
   "metadata": {},
   "source": [
    "Опис всіх категорій:"
   ]
  },
  {
   "cell_type": "code",
   "execution_count": 9,
   "id": "emotional-gallery",
   "metadata": {},
   "outputs": [
    {
     "data": {
      "text/html": [
       "<div>\n",
       "<style scoped>\n",
       "    .dataframe tbody tr th:only-of-type {\n",
       "        vertical-align: middle;\n",
       "    }\n",
       "\n",
       "    .dataframe tbody tr th {\n",
       "        vertical-align: top;\n",
       "    }\n",
       "\n",
       "    .dataframe thead th {\n",
       "        text-align: right;\n",
       "    }\n",
       "</style>\n",
       "<table border=\"1\" class=\"dataframe\">\n",
       "  <thead>\n",
       "    <tr style=\"text-align: right;\">\n",
       "      <th></th>\n",
       "      <th>PassengerId</th>\n",
       "      <th>Survived</th>\n",
       "      <th>Pclass</th>\n",
       "      <th>Age</th>\n",
       "      <th>SibSp</th>\n",
       "      <th>Parch</th>\n",
       "      <th>Fare</th>\n",
       "    </tr>\n",
       "  </thead>\n",
       "  <tbody>\n",
       "    <tr>\n",
       "      <td>count</td>\n",
       "      <td>891.000000</td>\n",
       "      <td>891.000000</td>\n",
       "      <td>891.000000</td>\n",
       "      <td>714.000000</td>\n",
       "      <td>891.000000</td>\n",
       "      <td>891.000000</td>\n",
       "      <td>891.000000</td>\n",
       "    </tr>\n",
       "    <tr>\n",
       "      <td>mean</td>\n",
       "      <td>446.000000</td>\n",
       "      <td>0.383838</td>\n",
       "      <td>2.308642</td>\n",
       "      <td>29.699118</td>\n",
       "      <td>0.523008</td>\n",
       "      <td>0.381594</td>\n",
       "      <td>32.204208</td>\n",
       "    </tr>\n",
       "    <tr>\n",
       "      <td>std</td>\n",
       "      <td>257.353842</td>\n",
       "      <td>0.486592</td>\n",
       "      <td>0.836071</td>\n",
       "      <td>14.526497</td>\n",
       "      <td>1.102743</td>\n",
       "      <td>0.806057</td>\n",
       "      <td>49.693429</td>\n",
       "    </tr>\n",
       "    <tr>\n",
       "      <td>min</td>\n",
       "      <td>1.000000</td>\n",
       "      <td>0.000000</td>\n",
       "      <td>1.000000</td>\n",
       "      <td>0.420000</td>\n",
       "      <td>0.000000</td>\n",
       "      <td>0.000000</td>\n",
       "      <td>0.000000</td>\n",
       "    </tr>\n",
       "    <tr>\n",
       "      <td>25%</td>\n",
       "      <td>223.500000</td>\n",
       "      <td>0.000000</td>\n",
       "      <td>2.000000</td>\n",
       "      <td>20.125000</td>\n",
       "      <td>0.000000</td>\n",
       "      <td>0.000000</td>\n",
       "      <td>7.910400</td>\n",
       "    </tr>\n",
       "    <tr>\n",
       "      <td>50%</td>\n",
       "      <td>446.000000</td>\n",
       "      <td>0.000000</td>\n",
       "      <td>3.000000</td>\n",
       "      <td>28.000000</td>\n",
       "      <td>0.000000</td>\n",
       "      <td>0.000000</td>\n",
       "      <td>14.454200</td>\n",
       "    </tr>\n",
       "    <tr>\n",
       "      <td>75%</td>\n",
       "      <td>668.500000</td>\n",
       "      <td>1.000000</td>\n",
       "      <td>3.000000</td>\n",
       "      <td>38.000000</td>\n",
       "      <td>1.000000</td>\n",
       "      <td>0.000000</td>\n",
       "      <td>31.000000</td>\n",
       "    </tr>\n",
       "    <tr>\n",
       "      <td>max</td>\n",
       "      <td>891.000000</td>\n",
       "      <td>1.000000</td>\n",
       "      <td>3.000000</td>\n",
       "      <td>80.000000</td>\n",
       "      <td>8.000000</td>\n",
       "      <td>6.000000</td>\n",
       "      <td>512.329200</td>\n",
       "    </tr>\n",
       "  </tbody>\n",
       "</table>\n",
       "</div>"
      ],
      "text/plain": [
       "       PassengerId    Survived      Pclass         Age       SibSp  \\\n",
       "count   891.000000  891.000000  891.000000  714.000000  891.000000   \n",
       "mean    446.000000    0.383838    2.308642   29.699118    0.523008   \n",
       "std     257.353842    0.486592    0.836071   14.526497    1.102743   \n",
       "min       1.000000    0.000000    1.000000    0.420000    0.000000   \n",
       "25%     223.500000    0.000000    2.000000   20.125000    0.000000   \n",
       "50%     446.000000    0.000000    3.000000   28.000000    0.000000   \n",
       "75%     668.500000    1.000000    3.000000   38.000000    1.000000   \n",
       "max     891.000000    1.000000    3.000000   80.000000    8.000000   \n",
       "\n",
       "            Parch        Fare  \n",
       "count  891.000000  891.000000  \n",
       "mean     0.381594   32.204208  \n",
       "std      0.806057   49.693429  \n",
       "min      0.000000    0.000000  \n",
       "25%      0.000000    7.910400  \n",
       "50%      0.000000   14.454200  \n",
       "75%      0.000000   31.000000  \n",
       "max      6.000000  512.329200  "
      ]
     },
     "execution_count": 9,
     "metadata": {},
     "output_type": "execute_result"
    }
   ],
   "source": [
    "train_data.describe()"
   ]
  },
  {
   "cell_type": "code",
   "execution_count": 10,
   "id": "restricted-module",
   "metadata": {},
   "outputs": [
    {
     "data": {
      "text/html": [
       "<div>\n",
       "<style scoped>\n",
       "    .dataframe tbody tr th:only-of-type {\n",
       "        vertical-align: middle;\n",
       "    }\n",
       "\n",
       "    .dataframe tbody tr th {\n",
       "        vertical-align: top;\n",
       "    }\n",
       "\n",
       "    .dataframe thead th {\n",
       "        text-align: right;\n",
       "    }\n",
       "</style>\n",
       "<table border=\"1\" class=\"dataframe\">\n",
       "  <thead>\n",
       "    <tr style=\"text-align: right;\">\n",
       "      <th></th>\n",
       "      <th>Name</th>\n",
       "      <th>Sex</th>\n",
       "      <th>Ticket</th>\n",
       "      <th>Cabin</th>\n",
       "      <th>Embarked</th>\n",
       "    </tr>\n",
       "  </thead>\n",
       "  <tbody>\n",
       "    <tr>\n",
       "      <td>count</td>\n",
       "      <td>891</td>\n",
       "      <td>891</td>\n",
       "      <td>891</td>\n",
       "      <td>204</td>\n",
       "      <td>889</td>\n",
       "    </tr>\n",
       "    <tr>\n",
       "      <td>unique</td>\n",
       "      <td>891</td>\n",
       "      <td>2</td>\n",
       "      <td>681</td>\n",
       "      <td>147</td>\n",
       "      <td>3</td>\n",
       "    </tr>\n",
       "    <tr>\n",
       "      <td>top</td>\n",
       "      <td>Penasco y Castellana, Mr. Victor de Satode</td>\n",
       "      <td>male</td>\n",
       "      <td>347082</td>\n",
       "      <td>C23 C25 C27</td>\n",
       "      <td>S</td>\n",
       "    </tr>\n",
       "    <tr>\n",
       "      <td>freq</td>\n",
       "      <td>1</td>\n",
       "      <td>577</td>\n",
       "      <td>7</td>\n",
       "      <td>4</td>\n",
       "      <td>644</td>\n",
       "    </tr>\n",
       "  </tbody>\n",
       "</table>\n",
       "</div>"
      ],
      "text/plain": [
       "                                              Name   Sex  Ticket        Cabin  \\\n",
       "count                                          891   891     891          204   \n",
       "unique                                         891     2     681          147   \n",
       "top     Penasco y Castellana, Mr. Victor de Satode  male  347082  C23 C25 C27   \n",
       "freq                                             1   577       7            4   \n",
       "\n",
       "       Embarked  \n",
       "count       889  \n",
       "unique        3  \n",
       "top           S  \n",
       "freq        644  "
      ]
     },
     "execution_count": 10,
     "metadata": {},
     "output_type": "execute_result"
    }
   ],
   "source": [
    "train_data.describe(include = ['O'])"
   ]
  },
  {
   "cell_type": "raw",
   "id": "urban-crest",
   "metadata": {},
   "source": [
    "Підсумуємо:\n",
    "    Розмір -> train_data: 891*12; test_data : 418*11\n",
    "    Тип даних -> Categorical: Survived, Sex, Embarked; Ordinal: Pclass; Numerical: Age, Fare, PassengerId, SibSp, Parch; Mixed: Ticket, Cabin  \n",
    "    Число пропущених значень -> train_data:[('Age', 177), ('Cabin', 687), ('Embarked', 2)]; test_data :\n",
    "[('Age', 86), ('Cabin', 327), ('Fare', 1)]\n",
    "    Діапазон: Age [0.4;80], Fare [0;512]\n",
    "    Стать: 577 male(65%), 314 female(35%)\n",
    "    Кількість портів: 3\n",
    "    Дублікати Ticket: (891-681)/891 = 23.6%\n",
    "    Дублікати Cabin:  (204-147)/204 = 27.9%\n",
    "    Одинокі пасажири: 50-75% (SibSp, Parch)\n",
    "Не берем до уваги:\n",
    "    Cabin -  багато пропущених значень;\n",
    "    Ticket - багато дублікатів;\n",
    "    Name, PassengerId - не інформативно;\n",
    "Категорії для аналізу:\n",
    "    Age, Embarked, Fare - заповнити значеннями;\n",
    "    Sex,Pclass, Parch, SibSp - без змін.   "
   ]
  },
  {
   "cell_type": "raw",
   "id": "beginning-republican",
   "metadata": {},
   "source": [
    "Аналіз за категоріями чи виживе пасажир"
   ]
  },
  {
   "cell_type": "raw",
   "id": "satisfactory-burton",
   "metadata": {},
   "source": [
    "1. Sex"
   ]
  },
  {
   "cell_type": "code",
   "execution_count": 11,
   "id": "embedded-mortgage",
   "metadata": {},
   "outputs": [
    {
     "data": {
      "text/html": [
       "<div>\n",
       "<style scoped>\n",
       "    .dataframe tbody tr th:only-of-type {\n",
       "        vertical-align: middle;\n",
       "    }\n",
       "\n",
       "    .dataframe tbody tr th {\n",
       "        vertical-align: top;\n",
       "    }\n",
       "\n",
       "    .dataframe thead th {\n",
       "        text-align: right;\n",
       "    }\n",
       "</style>\n",
       "<table border=\"1\" class=\"dataframe\">\n",
       "  <thead>\n",
       "    <tr style=\"text-align: right;\">\n",
       "      <th></th>\n",
       "      <th>Survived</th>\n",
       "    </tr>\n",
       "    <tr>\n",
       "      <th>Sex</th>\n",
       "      <th></th>\n",
       "    </tr>\n",
       "  </thead>\n",
       "  <tbody>\n",
       "    <tr>\n",
       "      <td>female</td>\n",
       "      <td>0.742038</td>\n",
       "    </tr>\n",
       "    <tr>\n",
       "      <td>male</td>\n",
       "      <td>0.188908</td>\n",
       "    </tr>\n",
       "  </tbody>\n",
       "</table>\n",
       "</div>"
      ],
      "text/plain": [
       "        Survived\n",
       "Sex             \n",
       "female  0.742038\n",
       "male    0.188908"
      ]
     },
     "execution_count": 11,
     "metadata": {},
     "output_type": "execute_result"
    }
   ],
   "source": [
    "train_data[['Sex', 'Survived']].groupby('Sex').mean().sort_values('Survived', ascending = False)"
   ]
  },
  {
   "cell_type": "raw",
   "id": "similar-marking",
   "metadata": {},
   "source": [
    "2. Age"
   ]
  },
  {
   "cell_type": "code",
   "execution_count": 12,
   "id": "coastal-lithuania",
   "metadata": {},
   "outputs": [
    {
     "data": {
      "text/html": [
       "<div>\n",
       "<style scoped>\n",
       "    .dataframe tbody tr th:only-of-type {\n",
       "        vertical-align: middle;\n",
       "    }\n",
       "\n",
       "    .dataframe tbody tr th {\n",
       "        vertical-align: top;\n",
       "    }\n",
       "\n",
       "    .dataframe thead th {\n",
       "        text-align: right;\n",
       "    }\n",
       "</style>\n",
       "<table border=\"1\" class=\"dataframe\">\n",
       "  <thead>\n",
       "    <tr style=\"text-align: right;\">\n",
       "      <th></th>\n",
       "      <th>Survived</th>\n",
       "    </tr>\n",
       "    <tr>\n",
       "      <th>Age</th>\n",
       "      <th></th>\n",
       "    </tr>\n",
       "  </thead>\n",
       "  <tbody>\n",
       "    <tr>\n",
       "      <td>0.42</td>\n",
       "      <td>1.0</td>\n",
       "    </tr>\n",
       "    <tr>\n",
       "      <td>5.00</td>\n",
       "      <td>1.0</td>\n",
       "    </tr>\n",
       "    <tr>\n",
       "      <td>63.00</td>\n",
       "      <td>1.0</td>\n",
       "    </tr>\n",
       "    <tr>\n",
       "      <td>53.00</td>\n",
       "      <td>1.0</td>\n",
       "    </tr>\n",
       "    <tr>\n",
       "      <td>0.67</td>\n",
       "      <td>1.0</td>\n",
       "    </tr>\n",
       "    <tr>\n",
       "      <td>...</td>\n",
       "      <td>...</td>\n",
       "    </tr>\n",
       "    <tr>\n",
       "      <td>28.50</td>\n",
       "      <td>0.0</td>\n",
       "    </tr>\n",
       "    <tr>\n",
       "      <td>36.50</td>\n",
       "      <td>0.0</td>\n",
       "    </tr>\n",
       "    <tr>\n",
       "      <td>34.50</td>\n",
       "      <td>0.0</td>\n",
       "    </tr>\n",
       "    <tr>\n",
       "      <td>20.50</td>\n",
       "      <td>0.0</td>\n",
       "    </tr>\n",
       "    <tr>\n",
       "      <td>23.50</td>\n",
       "      <td>0.0</td>\n",
       "    </tr>\n",
       "  </tbody>\n",
       "</table>\n",
       "<p>88 rows × 1 columns</p>\n",
       "</div>"
      ],
      "text/plain": [
       "       Survived\n",
       "Age            \n",
       "0.42        1.0\n",
       "5.00        1.0\n",
       "63.00       1.0\n",
       "53.00       1.0\n",
       "0.67        1.0\n",
       "...         ...\n",
       "28.50       0.0\n",
       "36.50       0.0\n",
       "34.50       0.0\n",
       "20.50       0.0\n",
       "23.50       0.0\n",
       "\n",
       "[88 rows x 1 columns]"
      ]
     },
     "execution_count": 12,
     "metadata": {},
     "output_type": "execute_result"
    }
   ],
   "source": [
    "train_data[['Age', 'Survived']].groupby('Age').mean().sort_values('Survived', ascending = False)"
   ]
  },
  {
   "cell_type": "code",
   "execution_count": 13,
   "id": "frank-bridges",
   "metadata": {},
   "outputs": [
    {
     "name": "stderr",
     "output_type": "stream",
     "text": [
      "/home/oksana/.local/lib/python3.6/site-packages/seaborn/distributions.py:2557: FutureWarning: `distplot` is a deprecated function and will be removed in a future version. Please adapt your code to use either `displot` (a figure-level function with similar flexibility) or `histplot` (an axes-level function for histograms).\n",
      "  warnings.warn(msg, FutureWarning)\n",
      "/home/oksana/.local/lib/python3.6/site-packages/seaborn/distributions.py:2557: FutureWarning: `distplot` is a deprecated function and will be removed in a future version. Please adapt your code to use either `displot` (a figure-level function with similar flexibility) or `histplot` (an axes-level function for histograms).\n",
      "  warnings.warn(msg, FutureWarning)\n"
     ]
    },
    {
     "data": {
      "image/png": "[encoded data removed]",
      "text/plain": [
       "<Figure size 432x216 with 2 Axes>"
      ]
     },
     "metadata": {
      "needs_background": "light"
     },
     "output_type": "display_data"
    }
   ],
   "source": [
    "ticks = [i for i in np.arange(0, 90, 10)]\n",
    "g = sns.FacetGrid(train_data, col = 'Survived')\n",
    "g = g.map(sns.distplot, 'Age', bins = 50)\n",
    "g.set(xticks = ticks)\n",
    "g.set_axis_labels('Age','Probability')\n",
    "g.fig.subplots_adjust(top = 0.8)\n",
    "g.fig.suptitle(\"Age vs. Survived\")\n",
    "plt.show()"
   ]
  },
  {
   "cell_type": "raw",
   "id": "aerial-switzerland",
   "metadata": {},
   "source": [
    "3. Pclass"
   ]
  },
  {
   "cell_type": "code",
   "execution_count": 14,
   "id": "regulation-purple",
   "metadata": {},
   "outputs": [
    {
     "data": {
      "text/html": [
       "<div>\n",
       "<style scoped>\n",
       "    .dataframe tbody tr th:only-of-type {\n",
       "        vertical-align: middle;\n",
       "    }\n",
       "\n",
       "    .dataframe tbody tr th {\n",
       "        vertical-align: top;\n",
       "    }\n",
       "\n",
       "    .dataframe thead th {\n",
       "        text-align: right;\n",
       "    }\n",
       "</style>\n",
       "<table border=\"1\" class=\"dataframe\">\n",
       "  <thead>\n",
       "    <tr style=\"text-align: right;\">\n",
       "      <th></th>\n",
       "      <th>Survived</th>\n",
       "    </tr>\n",
       "    <tr>\n",
       "      <th>Pclass</th>\n",
       "      <th></th>\n",
       "    </tr>\n",
       "  </thead>\n",
       "  <tbody>\n",
       "    <tr>\n",
       "      <td>1</td>\n",
       "      <td>0.629630</td>\n",
       "    </tr>\n",
       "    <tr>\n",
       "      <td>2</td>\n",
       "      <td>0.472826</td>\n",
       "    </tr>\n",
       "    <tr>\n",
       "      <td>3</td>\n",
       "      <td>0.242363</td>\n",
       "    </tr>\n",
       "  </tbody>\n",
       "</table>\n",
       "</div>"
      ],
      "text/plain": [
       "        Survived\n",
       "Pclass          \n",
       "1       0.629630\n",
       "2       0.472826\n",
       "3       0.242363"
      ]
     },
     "execution_count": 14,
     "metadata": {},
     "output_type": "execute_result"
    }
   ],
   "source": [
    "train_data[['Pclass', 'Survived']].groupby('Pclass').mean().sort_values(by = 'Survived', ascending = False)"
   ]
  },
  {
   "cell_type": "raw",
   "id": "satisfied-dynamics",
   "metadata": {},
   "source": [
    "4. Fare"
   ]
  },
  {
   "cell_type": "code",
   "execution_count": 15,
   "id": "interim-calculation",
   "metadata": {},
   "outputs": [
    {
     "name": "stderr",
     "output_type": "stream",
     "text": [
      "/home/oksana/.local/lib/python3.6/site-packages/seaborn/distributions.py:2557: FutureWarning: `distplot` is a deprecated function and will be removed in a future version. Please adapt your code to use either `displot` (a figure-level function with similar flexibility) or `histplot` (an axes-level function for histograms).\n",
      "  warnings.warn(msg, FutureWarning)\n"
     ]
    },
    {
     "data": {
      "image/png": "[encoded data removed]",
      "text/plain": [
       "<Figure size 432x216 with 2 Axes>"
      ]
     },
     "metadata": {
      "needs_background": "light"
     },
     "output_type": "display_data"
    }
   ],
   "source": [
    "g = sns.FacetGrid(train_data, col = 'Survived')\n",
    "g = g.map(sns.distplot, 'Fare', bins = 50, kde = False)\n",
    "g.set_axis_labels('Fare','Value $')\n",
    "g.fig.subplots_adjust(top = 0.8)\n",
    "g.fig.suptitle(\"Fare vs. Survived\")\n",
    "plt.show()"
   ]
  },
  {
   "cell_type": "raw",
   "id": "personal-moral",
   "metadata": {},
   "source": [
    "5. SipSb"
   ]
  },
  {
   "cell_type": "code",
   "execution_count": 16,
   "id": "terminal-timber",
   "metadata": {},
   "outputs": [
    {
     "data": {
      "image/png": "[encoded data removed]",
      "text/plain": [
       "<Figure size 432x288 with 1 Axes>"
      ]
     },
     "metadata": {
      "needs_background": "light"
     },
     "output_type": "display_data"
    }
   ],
   "source": [
    "sns.barplot(x = train_data['SibSp'], y = train_data['Survived'])\n",
    "plt.show()"
   ]
  },
  {
   "cell_type": "raw",
   "id": "demographic-harvey",
   "metadata": {},
   "source": [
    "6. Parch"
   ]
  },
  {
   "cell_type": "code",
   "execution_count": 17,
   "id": "restricted-gazette",
   "metadata": {},
   "outputs": [
    {
     "data": {
      "image/png": "[encoded data removed]",
      "text/plain": [
       "<Figure size 432x288 with 1 Axes>"
      ]
     },
     "metadata": {
      "needs_background": "light"
     },
     "output_type": "display_data"
    }
   ],
   "source": [
    "sns.barplot(x = train_data['Parch'], y = train_data['Survived'])\n",
    "plt.show()"
   ]
  },
  {
   "cell_type": "raw",
   "id": "increasing-merit",
   "metadata": {},
   "source": [
    "7. Embarked"
   ]
  },
  {
   "cell_type": "code",
   "execution_count": 18,
   "id": "vanilla-canal",
   "metadata": {},
   "outputs": [
    {
     "data": {
      "text/html": [
       "<div>\n",
       "<style scoped>\n",
       "    .dataframe tbody tr th:only-of-type {\n",
       "        vertical-align: middle;\n",
       "    }\n",
       "\n",
       "    .dataframe tbody tr th {\n",
       "        vertical-align: top;\n",
       "    }\n",
       "\n",
       "    .dataframe thead th {\n",
       "        text-align: right;\n",
       "    }\n",
       "</style>\n",
       "<table border=\"1\" class=\"dataframe\">\n",
       "  <thead>\n",
       "    <tr style=\"text-align: right;\">\n",
       "      <th></th>\n",
       "      <th>Survived</th>\n",
       "    </tr>\n",
       "    <tr>\n",
       "      <th>Embarked</th>\n",
       "      <th></th>\n",
       "    </tr>\n",
       "  </thead>\n",
       "  <tbody>\n",
       "    <tr>\n",
       "      <td>C</td>\n",
       "      <td>0.553571</td>\n",
       "    </tr>\n",
       "    <tr>\n",
       "      <td>Q</td>\n",
       "      <td>0.389610</td>\n",
       "    </tr>\n",
       "    <tr>\n",
       "      <td>S</td>\n",
       "      <td>0.336957</td>\n",
       "    </tr>\n",
       "  </tbody>\n",
       "</table>\n",
       "</div>"
      ],
      "text/plain": [
       "          Survived\n",
       "Embarked          \n",
       "C         0.553571\n",
       "Q         0.389610\n",
       "S         0.336957"
      ]
     },
     "execution_count": 18,
     "metadata": {},
     "output_type": "execute_result"
    }
   ],
   "source": [
    "train_data[['Embarked', 'Survived']].groupby('Embarked').mean().sort_values(by = 'Survived', ascending = False)"
   ]
  },
  {
   "cell_type": "code",
   "execution_count": 19,
   "id": "robust-feeling",
   "metadata": {},
   "outputs": [
    {
     "data": {
      "text/plain": [
       "PassengerId    False\n",
       "Survived       False\n",
       "Pclass         False\n",
       "Name           False\n",
       "Sex            False\n",
       "Age             True\n",
       "SibSp          False\n",
       "Parch          False\n",
       "Ticket         False\n",
       "Fare           False\n",
       "Cabin           True\n",
       "Embarked        True\n",
       "dtype: bool"
      ]
     },
     "execution_count": 19,
     "metadata": {},
     "output_type": "execute_result"
    }
   ],
   "source": [
    "train_data.isna().any()"
   ]
  },
  {
   "cell_type": "raw",
   "id": "occupational-observer",
   "metadata": {},
   "source": [
    "Here is what we are going to do for the feature engineering.\n",
    "\n",
    "Drop out PassengerId, Name, Ticket and Cabin.\n",
    "Create a new feature 'IsAlone'( = SibSp + Parch + 1) to indicate if a passenger is alone.\n",
    "Extract titles from Name.\n",
    "Missing value imputation and normalization for numerical features.\n",
    "Encode the categorical features.\n",
    "Число пропущених значень -> train_data:[('Age', 177), ('Cabin', 687), ('Embarked', 2)]; test_data :\n",
    "[('Age', 86), ('Cabin', 327), ('Fare', 1)]"
   ]
  },
  {
   "cell_type": "raw",
   "id": "charming-sellers",
   "metadata": {},
   "source": [
    "Добавляєм значення Embarked"
   ]
  },
  {
   "cell_type": "code",
   "execution_count": 20,
   "id": "narrow-prague",
   "metadata": {},
   "outputs": [],
   "source": [
    "train_data['Embarked'].fillna(value = train_data['Embarked'].value_counts().index[0], inplace=True)\n",
    "X = train_data.drop('Survived', axis = 1)\n",
    "y = train_data['Survived']\n",
    "\n",
    "X_train, X_test, y_train, y_test = train_test_split(X, y, test_size = 0.2, random_state = 0)"
   ]
  },
  {
   "cell_type": "code",
   "execution_count": 21,
   "id": "ordered-payday",
   "metadata": {},
   "outputs": [
    {
     "data": {
      "text/plain": [
       "PassengerId    False\n",
       "Survived       False\n",
       "Pclass         False\n",
       "Name           False\n",
       "Sex            False\n",
       "Age             True\n",
       "SibSp          False\n",
       "Parch          False\n",
       "Ticket         False\n",
       "Fare           False\n",
       "Cabin           True\n",
       "Embarked       False\n",
       "dtype: bool"
      ]
     },
     "execution_count": 21,
     "metadata": {},
     "output_type": "execute_result"
    }
   ],
   "source": [
    "train_data.isna().any()"
   ]
  },
  {
   "cell_type": "raw",
   "id": "starting-romance",
   "metadata": {},
   "source": [
    "Добавляєм значення до Age, Fare. IsAlone це SibSp=0 і Parch=0"
   ]
  },
  {
   "cell_type": "code",
   "execution_count": 22,
   "id": "concrete-celtic",
   "metadata": {},
   "outputs": [],
   "source": [
    "num_columns = ['Age', 'Fare']\n",
    "cat_columns = ['Pclass', 'Sex', 'Embarked', 'IsAlone', 'Title']\n",
    "\n",
    "num_pipe = Pipeline([('num_selector', FeatureSelector(num_columns)),\n",
    "                     ('imputer', SimpleImputer(strategy = 'median')),\n",
    "                     ('Normalization', StandardScaler())])\n",
    "\n",
    "cat_pipe = Pipeline([('cat_selector', FeatureSelector(cat_columns)),\n",
    "                     ('ohe', OneHotEncoder(sparse = False))])\n",
    "\n",
    "union = FeatureUnion([('num', num_pipe),\n",
    "                      ('cat', cat_pipe)])"
   ]
  },
  {
   "cell_type": "code",
   "execution_count": 23,
   "id": "selected-differential",
   "metadata": {},
   "outputs": [],
   "source": [
    "learning_curve_pipe = Pipeline([('IsAlone', IsAlone(\"SibSp\", \"Parch\", 'IsAlone')),\n",
    "                                ('Title', ExtractName('Title')),\n",
    "                                ('union', union)])"
   ]
  },
  {
   "cell_type": "code",
   "execution_count": 24,
   "id": "sweet-lease",
   "metadata": {},
   "outputs": [],
   "source": [
    "clf = xgb.XGBClassifier()\n",
    "\n",
    "pipe = Pipeline([('IsAlone', IsAlone(\"SibSp\", \"Parch\", 'IsAlone')),\n",
    "                 ('Title', ExtractName('Title')),\n",
    "                 ('union', union),\n",
    "                 ('classifier', clf)])"
   ]
  },
  {
   "cell_type": "code",
   "execution_count": 25,
   "id": "adopted-happening",
   "metadata": {},
   "outputs": [
    {
     "name": "stdout",
     "output_type": "stream",
     "text": [
      "Fitting 5 folds for each of 7680 candidates, totalling 38400 fits\n"
     ]
    },
    {
     "name": "stderr",
     "output_type": "stream",
     "text": [
      "[Parallel(n_jobs=-1)]: Using backend LokyBackend with 4 concurrent workers.\n",
      "[Parallel(n_jobs=-1)]: Done  42 tasks      | elapsed:    5.3s\n",
      "[Parallel(n_jobs=-1)]: Done 192 tasks      | elapsed:   12.5s\n",
      "[Parallel(n_jobs=-1)]: Done 442 tasks      | elapsed:   22.2s\n",
      "[Parallel(n_jobs=-1)]: Done 792 tasks      | elapsed:   35.9s\n",
      "[Parallel(n_jobs=-1)]: Done 1242 tasks      | elapsed:   53.3s\n",
      "[Parallel(n_jobs=-1)]: Done 1792 tasks      | elapsed:  1.2min\n",
      "[Parallel(n_jobs=-1)]: Done 2442 tasks      | elapsed:  1.6min\n",
      "[Parallel(n_jobs=-1)]: Done 3192 tasks      | elapsed:  2.1min\n",
      "[Parallel(n_jobs=-1)]: Done 4042 tasks      | elapsed:  2.7min\n",
      "[Parallel(n_jobs=-1)]: Done 4992 tasks      | elapsed:  3.3min\n",
      "[Parallel(n_jobs=-1)]: Done 6042 tasks      | elapsed:  3.9min\n",
      "[Parallel(n_jobs=-1)]: Done 7192 tasks      | elapsed:  4.7min\n",
      "[Parallel(n_jobs=-1)]: Done 8442 tasks      | elapsed:  5.5min\n",
      "[Parallel(n_jobs=-1)]: Done 9792 tasks      | elapsed:  6.3min\n",
      "[Parallel(n_jobs=-1)]: Done 11242 tasks      | elapsed:  7.4min\n",
      "[Parallel(n_jobs=-1)]: Done 12792 tasks      | elapsed:  8.9min\n",
      "[Parallel(n_jobs=-1)]: Done 14442 tasks      | elapsed: 10.2min\n",
      "[Parallel(n_jobs=-1)]: Done 16192 tasks      | elapsed: 11.5min\n",
      "[Parallel(n_jobs=-1)]: Done 18042 tasks      | elapsed: 13.0min\n",
      "[Parallel(n_jobs=-1)]: Done 19992 tasks      | elapsed: 14.6min\n",
      "[Parallel(n_jobs=-1)]: Done 22042 tasks      | elapsed: 16.2min\n",
      "[Parallel(n_jobs=-1)]: Done 24192 tasks      | elapsed: 18.1min\n",
      "[Parallel(n_jobs=-1)]: Done 26442 tasks      | elapsed: 20.0min\n",
      "[Parallel(n_jobs=-1)]: Done 28792 tasks      | elapsed: 22.1min\n",
      "[Parallel(n_jobs=-1)]: Done 31242 tasks      | elapsed: 25.1min\n",
      "[Parallel(n_jobs=-1)]: Done 33792 tasks      | elapsed: 27.9min\n",
      "[Parallel(n_jobs=-1)]: Done 36442 tasks      | elapsed: 30.9min\n",
      "[Parallel(n_jobs=-1)]: Done 38400 out of 38400 | elapsed: 32.8min finished\n"
     ]
    },
    {
     "name": "stdout",
     "output_type": "stream",
     "text": [
      "Training score is 0.8792134831460674\n",
      "CV score is 0.8356741573033708\n",
      "Best parameter is {'classifier__colsample_bytree': 0.5, 'classifier__gamma': 0.3, 'classifier__learning_rate': 0.25, 'classifier__max_depth': 6, 'classifier__min_child_weight': 7, 'union__num__imputer__strategy': 'median'}\n",
      "====================================================================================================\n",
      "Accuracy is 0.8491620111731844\n",
      "AUC is 0.9090909090909091\n",
      "F1 score is 0.7874015748031497\n"
     ]
    },
    {
     "data": {
      "text/html": [
       "<div>\n",
       "<style scoped>\n",
       "    .dataframe tbody tr th:only-of-type {\n",
       "        vertical-align: middle;\n",
       "    }\n",
       "\n",
       "    .dataframe tbody tr th {\n",
       "        vertical-align: top;\n",
       "    }\n",
       "\n",
       "    .dataframe thead th {\n",
       "        text-align: right;\n",
       "    }\n",
       "</style>\n",
       "<table border=\"1\" class=\"dataframe\">\n",
       "  <thead>\n",
       "    <tr style=\"text-align: right;\">\n",
       "      <th></th>\n",
       "      <th>Feature</th>\n",
       "      <th>Feature Importance</th>\n",
       "    </tr>\n",
       "  </thead>\n",
       "  <tbody>\n",
       "    <tr>\n",
       "      <td>13</td>\n",
       "      <td>x4_1</td>\n",
       "      <td>0.387378</td>\n",
       "    </tr>\n",
       "    <tr>\n",
       "      <td>5</td>\n",
       "      <td>x1_female</td>\n",
       "      <td>0.235568</td>\n",
       "    </tr>\n",
       "    <tr>\n",
       "      <td>6</td>\n",
       "      <td>x1_male</td>\n",
       "      <td>0.118705</td>\n",
       "    </tr>\n",
       "    <tr>\n",
       "      <td>4</td>\n",
       "      <td>x0_3</td>\n",
       "      <td>0.058856</td>\n",
       "    </tr>\n",
       "    <tr>\n",
       "      <td>12</td>\n",
       "      <td>x4_0</td>\n",
       "      <td>0.048586</td>\n",
       "    </tr>\n",
       "    <tr>\n",
       "      <td>2</td>\n",
       "      <td>x0_1</td>\n",
       "      <td>0.024515</td>\n",
       "    </tr>\n",
       "    <tr>\n",
       "      <td>9</td>\n",
       "      <td>x2_S</td>\n",
       "      <td>0.021747</td>\n",
       "    </tr>\n",
       "    <tr>\n",
       "      <td>0</td>\n",
       "      <td>Age</td>\n",
       "      <td>0.019956</td>\n",
       "    </tr>\n",
       "    <tr>\n",
       "      <td>11</td>\n",
       "      <td>x3_1</td>\n",
       "      <td>0.019658</td>\n",
       "    </tr>\n",
       "    <tr>\n",
       "      <td>1</td>\n",
       "      <td>Fare</td>\n",
       "      <td>0.017798</td>\n",
       "    </tr>\n",
       "    <tr>\n",
       "      <td>3</td>\n",
       "      <td>x0_2</td>\n",
       "      <td>0.017126</td>\n",
       "    </tr>\n",
       "    <tr>\n",
       "      <td>10</td>\n",
       "      <td>x3_0</td>\n",
       "      <td>0.013284</td>\n",
       "    </tr>\n",
       "    <tr>\n",
       "      <td>7</td>\n",
       "      <td>x2_C</td>\n",
       "      <td>0.012988</td>\n",
       "    </tr>\n",
       "    <tr>\n",
       "      <td>8</td>\n",
       "      <td>x2_Q</td>\n",
       "      <td>0.003834</td>\n",
       "    </tr>\n",
       "    <tr>\n",
       "      <td>14</td>\n",
       "      <td>x4_2</td>\n",
       "      <td>0.000000</td>\n",
       "    </tr>\n",
       "  </tbody>\n",
       "</table>\n",
       "</div>"
      ],
      "text/plain": [
       "      Feature  Feature Importance\n",
       "13       x4_1            0.387378\n",
       "5   x1_female            0.235568\n",
       "6     x1_male            0.118705\n",
       "4        x0_3            0.058856\n",
       "12       x4_0            0.048586\n",
       "2        x0_1            0.024515\n",
       "9        x2_S            0.021747\n",
       "0         Age            0.019956\n",
       "11       x3_1            0.019658\n",
       "1        Fare            0.017798\n",
       "3        x0_2            0.017126\n",
       "10       x3_0            0.013284\n",
       "7        x2_C            0.012988\n",
       "8        x2_Q            0.003834\n",
       "14       x4_2            0.000000"
      ]
     },
     "execution_count": 25,
     "metadata": {},
     "output_type": "execute_result"
    }
   ],
   "source": [
    "param_grid = {'classifier__learning_rate': [0.05, 0.10, 0.15, 0.20, 0.25, 0.30], \n",
    "              'classifier__max_depth': [3, 4, 5, 6, 8, 10, 12, 15], \n",
    "              'classifier__min_child_weight': [1, 3, 5, 7], \n",
    "              'classifier__gamma': [0.0, 0.1, 0.2, 0.3, 0.4], \n",
    "              'classifier__colsample_bytree': [0.3, 0.4, 0.5, 0.7],\n",
    "              'union__num__imputer__strategy': ['median', 'mean']}\n",
    "\n",
    "grid_search = GridSearchCV(pipe, param_grid, cv = 5, scoring = 'accuracy', n_jobs = -1, verbose = 1)\n",
    "grid_search.fit(X_train, y_train)\n",
    "best_model = grid_search.best_estimator_\n",
    "\n",
    "# training score and CV score\n",
    "result = \"{} is {}\"\n",
    "print(result.format(\"Training score\", grid_search.score(X_train, y_train)))\n",
    "print(result.format(\"CV score\", grid_search.best_score_))\n",
    "print(result.format(\"Best parameter\", grid_search.best_params_))\n",
    "\n",
    "# Accuracy, AUC and F1\n",
    "y_prediction = best_model.predict(X_test)\n",
    "pred_proba = best_model.predict_proba(X_test)[:, 1]\n",
    "\n",
    "print(\"=\" * 100)\n",
    "print(result.format(\"Accuracy\", accuracy_score(y_test, y_prediction)))\n",
    "print(result.format(\"AUC\", roc_auc_score(y_test, pred_proba)))\n",
    "print(result.format(\"F1 score\", f1_score(y_test, y_prediction)))\n",
    "\n",
    "# Feature importance\n",
    "feature_importance = best_model.steps[3][1].feature_importances_\n",
    "num_cols = best_model.named_steps['union'].transformer_list[0][1].steps[0][1].columns.copy()\n",
    "cat_cols = best_model.named_steps['union'].transformer_list[1][1].steps[1][1].get_feature_names().copy()\n",
    "num_cols.extend(cat_cols)\n",
    "df = pd.DataFrame({'Feature': num_cols, 'Feature Importance': feature_importance}).sort_values(\"Feature Importance\", ascending = False)\n",
    "df"
   ]
  },
  {
   "cell_type": "raw",
   "id": "infectious-residence",
   "metadata": {},
   "source": [
    "Висновок"
   ]
  },
  {
   "cell_type": "code",
   "execution_count": 26,
   "id": "nonprofit-passenger",
   "metadata": {},
   "outputs": [
    {
     "data": {
      "text/html": [
       "<div>\n",
       "<style scoped>\n",
       "    .dataframe tbody tr th:only-of-type {\n",
       "        vertical-align: middle;\n",
       "    }\n",
       "\n",
       "    .dataframe tbody tr th {\n",
       "        vertical-align: top;\n",
       "    }\n",
       "\n",
       "    .dataframe thead th {\n",
       "        text-align: right;\n",
       "    }\n",
       "</style>\n",
       "<table border=\"1\" class=\"dataframe\">\n",
       "  <thead>\n",
       "    <tr style=\"text-align: right;\">\n",
       "      <th></th>\n",
       "      <th>PassengerId</th>\n",
       "      <th>Survived</th>\n",
       "    </tr>\n",
       "  </thead>\n",
       "  <tbody>\n",
       "    <tr>\n",
       "      <td>0</td>\n",
       "      <td>892</td>\n",
       "      <td>0</td>\n",
       "    </tr>\n",
       "    <tr>\n",
       "      <td>1</td>\n",
       "      <td>893</td>\n",
       "      <td>0</td>\n",
       "    </tr>\n",
       "    <tr>\n",
       "      <td>2</td>\n",
       "      <td>894</td>\n",
       "      <td>0</td>\n",
       "    </tr>\n",
       "    <tr>\n",
       "      <td>3</td>\n",
       "      <td>895</td>\n",
       "      <td>0</td>\n",
       "    </tr>\n",
       "    <tr>\n",
       "      <td>4</td>\n",
       "      <td>896</td>\n",
       "      <td>0</td>\n",
       "    </tr>\n",
       "    <tr>\n",
       "      <td>...</td>\n",
       "      <td>...</td>\n",
       "      <td>...</td>\n",
       "    </tr>\n",
       "    <tr>\n",
       "      <td>413</td>\n",
       "      <td>1305</td>\n",
       "      <td>0</td>\n",
       "    </tr>\n",
       "    <tr>\n",
       "      <td>414</td>\n",
       "      <td>1306</td>\n",
       "      <td>1</td>\n",
       "    </tr>\n",
       "    <tr>\n",
       "      <td>415</td>\n",
       "      <td>1307</td>\n",
       "      <td>0</td>\n",
       "    </tr>\n",
       "    <tr>\n",
       "      <td>416</td>\n",
       "      <td>1308</td>\n",
       "      <td>0</td>\n",
       "    </tr>\n",
       "    <tr>\n",
       "      <td>417</td>\n",
       "      <td>1309</td>\n",
       "      <td>0</td>\n",
       "    </tr>\n",
       "  </tbody>\n",
       "</table>\n",
       "<p>418 rows × 2 columns</p>\n",
       "</div>"
      ],
      "text/plain": [
       "     PassengerId  Survived\n",
       "0            892         0\n",
       "1            893         0\n",
       "2            894         0\n",
       "3            895         0\n",
       "4            896         0\n",
       "..           ...       ...\n",
       "413         1305         0\n",
       "414         1306         1\n",
       "415         1307         0\n",
       "416         1308         0\n",
       "417         1309         0\n",
       "\n",
       "[418 rows x 2 columns]"
      ]
     },
     "execution_count": 26,
     "metadata": {},
     "output_type": "execute_result"
    }
   ],
   "source": [
    "y_pred = pd.Series(best_model.predict(test_data), name = 'Survived')\n",
    "predict = pd.DataFrame({'PassengerId': test_data['PassengerId'],\n",
    "                       \"Survived\": y_pred})\n",
    "predict"
   ]
  },
  {
   "cell_type": "code",
   "execution_count": null,
   "id": "interesting-service",
   "metadata": {},
   "outputs": [],
   "source": []
  }
 ],
 "metadata": {
  "kernelspec": {
   "display_name": "Python 3",
   "language": "python",
   "name": "python3"
  },
  "language_info": {
   "codemirror_mode": {
    "name": "ipython",
    "version": 3
   },
   "file_extension": ".py",
   "mimetype": "text/x-python",
   "name": "python",
   "nbconvert_exporter": "python",
   "pygments_lexer": "ipython3",
   "version": "3.6.9"
  }
 },
 "nbformat": 4,
 "nbformat_minor": 5
}
